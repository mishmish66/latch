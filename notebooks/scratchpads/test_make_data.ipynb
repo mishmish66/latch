{
 "cells": [
  {
   "cell_type": "code",
   "execution_count": 1,
   "metadata": {},
   "outputs": [],
   "source": [
    "import jax\n",
    "import jax.numpy as jnp"
   ]
  },
  {
   "cell_type": "code",
   "execution_count": 2,
   "metadata": {},
   "outputs": [],
   "source": [
    "import mujoco\n",
    "from mujoco import mjx"
   ]
  },
  {
   "cell_type": "code",
   "execution_count": 3,
   "metadata": {},
   "outputs": [],
   "source": [
    "host_model = mujoco.MjModel.from_xml_path(\"../../latch/env/finger/assets/finger.xml\")"
   ]
  },
  {
   "cell_type": "code",
   "execution_count": 4,
   "metadata": {},
   "outputs": [],
   "source": [
    "device_model = mjx.put_model(host_model)"
   ]
  },
  {
   "cell_type": "code",
   "execution_count": 5,
   "metadata": {},
   "outputs": [],
   "source": [
    "def step_new_data(state, action):\n",
    "    data = mjx.make_data(device_model)\n",
    "    data = data.replace(qpos=state[:3])\n",
    "    data = data.replace(qvel=state[3:])\n",
    "    data = data.replace(ctrl=action)\n",
    "    data = mjx.step(device_model, data)\n",
    "    return jnp.concatenate([data.qpos, data.qvel])"
   ]
  },
  {
   "cell_type": "code",
   "execution_count": 6,
   "metadata": {},
   "outputs": [],
   "source": [
    "def step_existing_data(state, action, data):\n",
    "    data = data.replace(qpos=state[:3])\n",
    "    data = data.replace(qvel=state[3:])\n",
    "    data = data.replace(ctrl=action)\n",
    "    data = mjx.step(device_model, data)\n",
    "    return jnp.concatenate([data.qpos, data.qvel])"
   ]
  },
  {
   "cell_type": "code",
   "execution_count": 7,
   "metadata": {},
   "outputs": [],
   "source": [
    "@jax.jit\n",
    "def collect_traj_new_data(key):\n",
    "    def scanf(\n",
    "        state,\n",
    "        key,\n",
    "    ):\n",
    "        action = jax.random.normal(key, shape=(2,))\n",
    "        next_state = step_new_data(state, action)\n",
    "        return next_state, next_state\n",
    "\n",
    "    rng, key = jax.random.split(key)\n",
    "    rngs = jax.random.split(rng, 100)\n",
    "\n",
    "    initial_state = jnp.zeros(6)\n",
    "\n",
    "    return jax.lax.scan(scanf, initial_state, rngs)\n",
    "\n",
    "@jax.jit\n",
    "def collect_traj_existing_data(key):\n",
    "    data = mjx.make_data(device_model)\n",
    "\n",
    "    def scanf(\n",
    "        state,\n",
    "        key,\n",
    "    ):\n",
    "        action = jax.random.normal(key, shape=(2,))\n",
    "        next_state = step_existing_data(state, action, data)\n",
    "        return next_state, next_state\n",
    "\n",
    "    rng, key = jax.random.split(key)\n",
    "    rngs = jax.random.split(rng, 100)\n",
    "\n",
    "    initial_state = jnp.zeros(6)\n",
    "\n",
    "    return jax.lax.scan(scanf, initial_state, rngs)"
   ]
  },
  {
   "cell_type": "markdown",
   "metadata": {},
   "source": [
    "# Now benchmark the two"
   ]
  },
  {
   "cell_type": "code",
   "execution_count": 8,
   "metadata": {},
   "outputs": [
    {
     "name": "stdout",
     "output_type": "stream",
     "text": [
      "New data\n",
      "16.364803396998468\n",
      "Existing data\n",
      "15.631491056999948\n"
     ]
    }
   ],
   "source": [
    "# Benchmark\n",
    "import timeit\n",
    "import numpy as np\n",
    "\n",
    "# Compile\n",
    "_ = collect_traj_new_data(jax.random.PRNGKey(0))\n",
    "_ = collect_traj_existing_data(jax.random.PRNGKey(0))\n",
    "\n",
    "# Run\n",
    "n = 32768 * 4\n",
    "\n",
    "def new_bench():\n",
    "    key = jax.random.PRNGKey(0)\n",
    "    rng, key = jax.random.split(key)\n",
    "    rngs = jax.random.split(rng, n)\n",
    "\n",
    "    result = jax.vmap(collect_traj_new_data)(rngs)\n",
    "\n",
    "    return result\n",
    "\n",
    "def existing_bench():\n",
    "    key = jax.random.PRNGKey(0)\n",
    "    rng, key = jax.random.split(key)\n",
    "    rngs = jax.random.split(rng, n)\n",
    "\n",
    "    result = jax.vmap(collect_traj_existing_data)(rngs)\n",
    "\n",
    "    return result\n",
    "\n",
    "print(\"New data\")\n",
    "print(timeit.timeit(new_bench, number=1))\n",
    "print(\"Existing data\")\n",
    "print(timeit.timeit(existing_bench, number=1))\n"
   ]
  },
  {
   "cell_type": "code",
   "execution_count": 9,
   "metadata": {},
   "outputs": [
    {
     "data": {
      "text/plain": [
       "(Array([[ 3.9901916e-02, -8.9636352e-03,  8.4578723e-02, -6.5824330e-01,\n",
       "         -1.8807429e+00,  2.6832926e+00],\n",
       "        [-3.3659067e-02,  2.4751777e-02, -7.5314417e-02, -1.9174249e-01,\n",
       "          1.3330293e+00,  7.1752272e+00],\n",
       "        [ 4.6820652e-02,  5.2667715e-02, -6.4203888e-02,  1.7702432e-01,\n",
       "         -3.7799972e-01, -3.6240232e+00],\n",
       "        ...,\n",
       "        [ 1.9170301e-02,  2.0148201e-02,  2.3057230e-02,  1.9279389e-01,\n",
       "         -2.0671678e-01, -3.6449184e+00],\n",
       "        [-1.8309964e-03, -3.3346865e-02, -2.4301572e-01, -8.8702962e-03,\n",
       "         -1.3158377e+00,  5.0260949e+00],\n",
       "        [-9.1674760e-02, -5.3285724e-03,  6.9978476e-02, -4.9782768e-02,\n",
       "         -1.8344868e+00,  1.5397359e+00]], dtype=float32),\n",
       " Array([[[ 0.0000000e+00, -3.1847646e-03,  4.8278603e-03,  0.0000000e+00,\n",
       "          -1.5923822e+00,  2.4139299e+00],\n",
       "         [ 0.0000000e+00, -8.9949630e-03,  1.3375195e-02,  0.0000000e+00,\n",
       "          -2.9050994e+00,  4.2736669e+00],\n",
       "         [ 0.0000000e+00, -1.5725939e-02,  1.6357102e-02,  0.0000000e+00,\n",
       "          -3.3654876e+00,  1.4909534e+00],\n",
       "         ...,\n",
       "         [ 4.3122549e-02,  7.2990940e-04,  7.4690312e-02, -7.6792735e-01,\n",
       "          -1.7509524e+00,  7.0500207e-01],\n",
       "         [ 4.1218404e-02, -5.2021490e-03,  7.9212137e-02, -9.5207328e-01,\n",
       "          -2.9660292e+00,  2.2609124e+00],\n",
       "         [ 3.9901916e-02, -8.9636352e-03,  8.4578723e-02, -6.5824330e-01,\n",
       "          -1.8807429e+00,  2.6832926e+00]],\n",
       " \n",
       "        [[ 0.0000000e+00,  1.9526109e-03,  3.5957070e-03,  0.0000000e+00,\n",
       "           9.7630543e-01,  1.7978535e+00],\n",
       "         [ 0.0000000e+00,  1.8129792e-03,  2.9025050e-03,  0.0000000e+00,\n",
       "          -6.9815814e-02, -3.4660101e-01],\n",
       "         [ 0.0000000e+00, -1.2940798e-03,  7.1286634e-03,  0.0000000e+00,\n",
       "          -1.5535295e+00,  2.1130791e+00],\n",
       "         ...,\n",
       "         [-3.2890562e-02,  2.1803118e-02, -1.0321031e-01, -1.9328205e-01,\n",
       "          -1.2360166e+00,  6.3088274e+00],\n",
       "         [-3.3275582e-02,  2.2085719e-02, -8.9664876e-02, -1.9251055e-01,\n",
       "           1.4130020e-01,  6.7727160e+00],\n",
       "         [-3.3659067e-02,  2.4751777e-02, -7.5314417e-02, -1.9174249e-01,\n",
       "           1.3330293e+00,  7.1752272e+00]],\n",
       " \n",
       "        [[ 0.0000000e+00,  3.1847639e-03, -4.8278603e-03,  0.0000000e+00,\n",
       "           1.5923820e+00, -2.4139299e+00],\n",
       "         [ 0.0000000e+00,  7.7713178e-03, -4.9432921e-03,  0.0000000e+00,\n",
       "           2.2932768e+00, -5.7715893e-02],\n",
       "         [ 0.0000000e+00,  8.5779754e-03, -6.4230990e-05,  0.0000000e+00,\n",
       "           4.0332890e-01,  2.4395304e+00],\n",
       "         ...,\n",
       "         [ 4.6111137e-02,  5.2313350e-02, -5.2436639e-02,  1.7844632e-01,\n",
       "           2.5260553e+00, -5.9449272e+00],\n",
       "         [ 4.6466604e-02,  5.3423714e-02, -5.6955844e-02,  1.7773408e-01,\n",
       "           5.5518186e-01, -2.2596033e+00],\n",
       "         [ 4.6820652e-02,  5.2667715e-02, -6.4203888e-02,  1.7702432e-01,\n",
       "          -3.7799972e-01, -3.6240232e+00]],\n",
       " \n",
       "        ...,\n",
       " \n",
       "        [[ 0.0000000e+00,  2.1225133e-03,  2.4341762e-03,  0.0000000e+00,\n",
       "           1.0612565e+00,  1.2170880e+00],\n",
       "         [ 0.0000000e+00,  8.5994310e-04,  9.2534414e-03,  0.0000000e+00,\n",
       "          -6.3128507e-01,  3.4096324e+00],\n",
       "         [ 0.0000000e+00, -1.9744644e-03,  1.1005673e-02,  0.0000000e+00,\n",
       "          -1.4172037e+00,  8.7611556e-01],\n",
       "         ...,\n",
       "         [ 1.8392609e-02,  1.8675148e-02,  3.5113588e-02,  1.9782795e-01,\n",
       "           2.2007771e+00, -8.4008741e-01],\n",
       "         [ 1.8784713e-02,  2.0561634e-02,  3.0347068e-02,  1.9605206e-01,\n",
       "           9.4324243e-01, -2.3832603e+00],\n",
       "         [ 1.9170301e-02,  2.0148201e-02,  2.3057230e-02,  1.9279389e-01,\n",
       "          -2.0671678e-01, -3.6449184e+00]],\n",
       " \n",
       "        [[ 0.0000000e+00, -3.1847646e-03,  4.8278603e-03,  0.0000000e+00,\n",
       "          -1.5923822e+00,  2.4139299e+00],\n",
       "         [ 0.0000000e+00, -7.7562896e-03,  4.9495259e-03,  0.0000000e+00,\n",
       "          -2.2857623e+00,  6.0832739e-02],\n",
       "         [ 0.0000000e+00, -8.8295266e-03,  1.9494162e-03,  0.0000000e+00,\n",
       "          -5.3661871e-01, -1.5000547e+00],\n",
       "         ...,\n",
       "         [-1.7954441e-03, -3.1248147e-02, -2.5992870e-01, -8.9415126e-03,\n",
       "           1.8939067e+00,  3.5127301e+00],\n",
       "         [-1.8132557e-03, -3.0715190e-02, -2.5306791e-01, -8.9058336e-03,\n",
       "           2.6647806e-01,  3.4303954e+00],\n",
       "         [-1.8309964e-03, -3.3346865e-02, -2.4301572e-01, -8.8702962e-03,\n",
       "          -1.3158377e+00,  5.0260949e+00]],\n",
       " \n",
       "        [[ 0.0000000e+00,  1.9526109e-03,  3.5957070e-03,  0.0000000e+00,\n",
       "           9.7630543e-01,  1.7978535e+00],\n",
       "         [ 0.0000000e+00,  1.5687671e-03,  4.5662085e-03,  0.0000000e+00,\n",
       "          -1.9192189e-01,  4.8525083e-01],\n",
       "         [ 0.0000000e+00, -6.8186794e-04,  1.7268562e-03,  0.0000000e+00,\n",
       "          -1.1253175e+00, -1.4196761e+00],\n",
       "         ...,\n",
       "         [-9.1733389e-02, -9.1227610e-04,  6.7794070e-02,  2.3463741e-01,\n",
       "           1.1682696e+00, -2.0826752e+00],\n",
       "         [-9.1575198e-02, -1.6595987e-03,  6.6899002e-02,  7.9094082e-02,\n",
       "          -3.7366128e-01, -4.4753516e-01],\n",
       "         [-9.1674760e-02, -5.3285724e-03,  6.9978476e-02, -4.9782768e-02,\n",
       "          -1.8344868e+00,  1.5397359e+00]]], dtype=float32))"
      ]
     },
     "execution_count": 9,
     "metadata": {},
     "output_type": "execute_result"
    }
   ],
   "source": [
    "new_bench()"
   ]
  },
  {
   "cell_type": "code",
   "execution_count": null,
   "metadata": {},
   "outputs": [],
   "source": []
  },
  {
   "cell_type": "code",
   "execution_count": null,
   "metadata": {},
   "outputs": [],
   "source": []
  }
 ],
 "metadata": {
  "kernelspec": {
   "display_name": "latch_venv",
   "language": "python",
   "name": "python3"
  },
  "language_info": {
   "codemirror_mode": {
    "name": "ipython",
    "version": 3
   },
   "file_extension": ".py",
   "mimetype": "text/x-python",
   "name": "python",
   "nbconvert_exporter": "python",
   "pygments_lexer": "ipython3",
   "version": "3.12.1"
  }
 },
 "nbformat": 4,
 "nbformat_minor": 2
}
