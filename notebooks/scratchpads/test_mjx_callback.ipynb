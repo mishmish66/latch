{
 "cells": [
  {
   "cell_type": "code",
   "execution_count": 1,
   "metadata": {},
   "outputs": [],
   "source": [
    "import mujoco\n",
    "from mujoco import mjx\n",
    "\n",
    "import jax\n",
    "from jax import numpy as jnp\n",
    "\n",
    "import numpy as np"
   ]
  },
  {
   "cell_type": "code",
   "execution_count": 2,
   "metadata": {},
   "outputs": [],
   "source": [
    "host_model = mujoco.MjModel.from_xml_path(\"../../latch/env/finger/assets/finger.xml\")"
   ]
  },
  {
   "cell_type": "code",
   "execution_count": 3,
   "metadata": {},
   "outputs": [],
   "source": [
    "dev_model = mjx.put_model(host_model)"
   ]
  },
  {
   "cell_type": "code",
   "execution_count": 4,
   "metadata": {},
   "outputs": [],
   "source": [
    "def make_data(_):\n",
    "    return mjx.make_data(dev_model)\n",
    "\n",
    "\n",
    "data = jax.vmap(jax.vmap(make_data))(jax.numpy.arange(25).reshape(5, 5))"
   ]
  },
  {
   "cell_type": "code",
   "execution_count": 5,
   "metadata": {},
   "outputs": [],
   "source": [
    "def host_process_data(data):\n",
    "    host_data = mjx.get_data(host_model, data)\n",
    "    import time\n",
    "    print(\"starting\")\n",
    "    time.sleep(1)\n",
    "    print(\"done\")\n",
    "    return np.array([5], dtype=np.float32)\n"
   ]
  },
  {
   "cell_type": "code",
   "execution_count": 6,
   "metadata": {},
   "outputs": [],
   "source": [
    "def call_callback(data):\n",
    "    return jax.pure_callback(host_process_data, jnp.zeros(1), data, vectorized=True)"
   ]
  },
  {
   "cell_type": "code",
   "execution_count": 12,
   "metadata": {},
   "outputs": [
    {
     "ename": "ValueError",
     "evalue": "operands could not be broadcast together with shapes (5,3) (24,) ",
     "output_type": "error",
     "traceback": [
      "\u001b[0;31m---------------------------------------------------------------------------\u001b[0m",
      "\u001b[0;31mValueError\u001b[0m                                Traceback (most recent call last)",
      "Cell \u001b[0;32mIn[12], line 1\u001b[0m\n\u001b[0;32m----> 1\u001b[0m cpu_data \u001b[38;5;241m=\u001b[39m \u001b[43mmjx\u001b[49m\u001b[38;5;241;43m.\u001b[39;49m\u001b[43mget_data\u001b[49m\u001b[43m(\u001b[49m\u001b[43mhost_model\u001b[49m\u001b[43m,\u001b[49m\u001b[43m \u001b[49m\u001b[43mdata\u001b[49m\u001b[43m)\u001b[49m\n",
      "File \u001b[0;32m~/Documents/latch/latch_venv/lib/python3.12/site-packages/mujoco/mjx/_src/io.py:245\u001b[0m, in \u001b[0;36mget_data\u001b[0;34m(m, d)\u001b[0m\n\u001b[1;32m    243\u001b[0m efc_active \u001b[38;5;241m=\u001b[39m (dx_i\u001b[38;5;241m.\u001b[39mefc_J \u001b[38;5;241m!=\u001b[39m \u001b[38;5;241m0\u001b[39m)\u001b[38;5;241m.\u001b[39many(axis\u001b[38;5;241m=\u001b[39m\u001b[38;5;241m1\u001b[39m)\n\u001b[1;32m    244\u001b[0m efc_con \u001b[38;5;241m=\u001b[39m efc_type \u001b[38;5;241m==\u001b[39m mujoco\u001b[38;5;241m.\u001b[39mmjtConstraint\u001b[38;5;241m.\u001b[39mmjCNSTR_CONTACT_PYRAMIDAL\n\u001b[0;32m--> 245\u001b[0m nefc, nc \u001b[38;5;241m=\u001b[39m efc_active\u001b[38;5;241m.\u001b[39msum(), (\u001b[43mefc_active\u001b[49m\u001b[43m \u001b[49m\u001b[38;5;241;43m&\u001b[39;49m\u001b[43m \u001b[49m\u001b[43mefc_con\u001b[49m)\u001b[38;5;241m.\u001b[39msum()\n\u001b[1;32m    246\u001b[0m d_i \u001b[38;5;241m=\u001b[39m mujoco\u001b[38;5;241m.\u001b[39mMjData(m)\n\u001b[1;32m    247\u001b[0m d_i\u001b[38;5;241m.\u001b[39mnnzJ \u001b[38;5;241m=\u001b[39m nefc \u001b[38;5;241m*\u001b[39m m\u001b[38;5;241m.\u001b[39mnv\n",
      "\u001b[0;31mValueError\u001b[0m: operands could not be broadcast together with shapes (5,3) (24,) "
     ]
    }
   ],
   "source": [
    "cpu_data = mjx.get_data(host_model, data)"
   ]
  },
  {
   "cell_type": "code",
   "execution_count": 65,
   "metadata": {},
   "outputs": [
    {
     "name": "stderr",
     "output_type": "stream",
     "text": [
      "2023-12-30 19:06:36.832327: W external/xla/xla/service/gpu/runtime/support.cc:58] Intercepted XLA runtime error:\n",
      "INTERNAL: CpuCallback error: ValueError: operands could not be broadcast together with shapes (5,3) (24,) \n",
      "\n",
      "At:\n",
      "  /home/mishmish/Documents/latch/latch_venv/lib/python3.12/site-packages/mujoco/mjx/_src/io.py(245): get_data\n",
      "  /tmp/ipykernel_138266/265307936.py(2): host_process_data\n",
      "  /home/mishmish/Documents/latch/latch_venv/lib/python3.12/site-packages/jax/_src/callback.py(262): _flat_callback\n",
      "  /home/mishmish/Documents/latch/latch_venv/lib/python3.12/site-packages/jax/_src/callback.py(53): pure_callback_impl\n",
      "  /home/mishmish/Documents/latch/latch_venv/lib/python3.12/site-packages/jax/_src/callback.py(192): _callback\n",
      "  /home/mishmish/Documents/latch/latch_venv/lib/python3.12/site-packages/jax/_src/interpreters/mlir.py(2367): _wrapped_callback\n",
      "  /home/mishmish/Documents/latch/latch_venv/lib/python3.12/site-packages/jax/_src/interpreters/pxla.py(1151): __call__\n",
      "  /home/mishmish/Documents/latch/latch_venv/lib/python3.12/site-packages/jax/_src/profiler.py(336): wrapper\n",
      "  /home/mishmish/Documents/latch/latch_venv/lib/python3.12/site-packages/jax/_src/pjit.py(1185): _pjit_call_impl_python\n",
      "  /home/mishmish/Documents/latch/latch_venv/lib/python3.12/site-packages/jax/_src/pjit.py(1229): call_impl_cache_miss\n",
      "  /home/mishmish/Documents/latch/latch_venv/lib/python3.12/site-packages/jax/_src/pjit.py(1245): _pjit_call_impl\n",
      "  /home/mishmish/Documents/latch/latch_venv/lib/python3.12/site-packages/jax/_src/core.py(935): process_primitive\n",
      "  /home/mishmish/Documents/latch/latch_venv/lib/python3.12/site-packages/jax/_src/core.py(447): bind_with_trace\n",
      "  /home/mishmish/Documents/latch/latch_venv/lib/python3.12/site-packages/jax/_src/core.py(2740): bind\n",
      "  /home/mishmish/Documents/latch/latch_venv/lib/python3.12/site-packages/jax/_src/pjit.py(168): _python_pjit_helper\n",
      "  /home/mishmish/Documents/latch/latch_venv/lib/python3.12/site-packages/jax/_src/pjit.py(257): cache_miss\n",
      "  /home/mishmish/Documents/latch/latch_venv/lib/python3.12/site-packages/jax/_src/traceback_util.py(179): reraise_with_filtered_traceback\n",
      "  /home/mishmish/Documents/latch/latch_venv/lib/python3.12/site-packages/jax/_src/dispatch.py(87): apply_primitive\n",
      "  /home/mishmish/Documents/latch/latch_venv/lib/python3.12/site-packages/jax/_src/core.py(935): process_primitive\n",
      "  /home/mishmish/Documents/latch/latch_venv/lib/python3.12/site-packages/jax/_src/core.py(447): bind_with_trace\n",
      "  /home/mishmish/Documents/latch/latch_venv/lib/python3.12/site-packages/jax/_src/core.py(444): bind\n",
      "  /home/mishmish/Documents/latch/latch_venv/lib/python3.12/site-packages/jax/_src/callback.py(108): pure_callback_batching_rule\n",
      "  /home/mishmish/Documents/latch/latch_venv/lib/python3.12/site-packages/jax/_src/interpreters/batching.py(433): process_primitive\n",
      "  /home/mishmish/Documents/latch/latch_venv/lib/python3.12/site-packages/jax/_src/core.py(447): bind_with_trace\n",
      "  /home/mishmish/Documents/latch/latch_venv/lib/python3.12/site-packages/jax/_src/core.py(444): bind\n",
      "  /home/mishmish/Documents/latch/latch_venv/lib/python3.12/site-packages/jax/_src/callback.py(108): pure_callback_batching_rule\n",
      "  /home/mishmish/Documents/latch/latch_venv/lib/python3.12/site-packages/jax/_src/interpreters/batching.py(433): process_primitive\n",
      "  /home/mishmish/Documents/latch/latch_venv/lib/python3.12/site-packages/jax/_src/core.py(447): bind_with_trace\n",
      "  /home/mishmish/Documents/latch/latch_venv/lib/python3.12/site-packages/jax/_src/core.py(444): bind\n",
      "  /home/mishmish/Documents/latch/latch_venv/lib/python3.12/site-packages/jax/_src/callback.py(269): pure_callback\n",
      "  /home/mishmish/Documents/latch/latch_venv/lib/python3.12/site-packages/jax/_src/callback.py(338): pure_callback_api\n",
      "  /tmp/ipykernel_138266/3744078314.py(2): call_callback\n",
      "  /home/mishmish/Documents/latch/latch_venv/lib/python3.12/site-packages/jax/_src/linear_util.py(191): call_wrapped\n",
      "  /home/mishmish/Documents/latch/latch_venv/lib/python3.12/site-packages/jax/_src/api.py(1258): vmap_f\n",
      "  /home/mishmish/Documents/latch/latch_venv/lib/python3.12/site-packages/jax/_src/traceback_util.py(179): reraise_with_filtered_traceback\n",
      "  /home/mishmish/Documents/latch/latch_venv/lib/python3.12/site-packages/jax/_src/linear_util.py(191): call_wrapped\n",
      "  /home/mishmish/Documents/latch/latch_venv/lib/python3.12/site-packages/jax/_src/api.py(1258): vmap_f\n",
      "  /home/mishmish/Documents/latch/latch_venv/lib/python3.12/site-packages/jax/_src/traceback_util.py(179): reraise_with_filtered_traceback\n",
      "  /tmp/ipykernel_138266/3062557544.py(1): <module>\n",
      "  /home/mishmish/Documents/latch/latch_venv/lib/python3.12/site-packages/IPython/core/interactiveshell.py(3553): run_code\n",
      "  /home/mishmish/Documents/latch/latch_venv/lib/python3.12/site-packages/IPython/core/interactiveshell.py(3493): run_ast_nodes\n",
      "  /home/mishmish/Documents/latch/latch_venv/lib/python3.12/site-packages/IPython/core/interactiveshell.py(3311): run_cell_async\n",
      "  /home/mishmish/Documents/latch/latch_venv/lib/python3.12/site-packages/IPython/core/async_helpers.py(129): _pseudo_sync_runner\n",
      "  /home/mishmish/Documents/latch/latch_venv/lib/python3.12/site-packages/IPython/core/interactiveshell.py(3106): _run_cell\n",
      "  /home/mishmish/Documents/latch/latch_venv/lib/python3.12/site-packages/IPython/core/interactiveshell.py(3051): run_cell\n",
      "  /home/mishmish/Documents/latch/latch_venv/lib/python3.12/site-packages/ipykernel/zmqshell.py(549): run_cell\n",
      "  /home/mishmish/Documents/latch/latch_venv/lib/python3.12/site-packages/ipykernel/ipkernel.py(429): do_execute\n",
      "  /home/mishmish/Documents/latch/latch_venv/lib/python3.12/site-packages/ipykernel/kernelbase.py(767): execute_request\n",
      "  /home/mishmish/Documents/latch/latch_venv/lib/python3.12/site-packages/ipykernel/kernelbase.py(429): dispatch_shell\n",
      "  /home/mishmish/Documents/latch/latch_venv/lib/python3.12/site-packages/ipykernel/kernelbase.py(523): process_one\n",
      "  /home/mishmish/Documents/latch/latch_venv/lib/python3.12/site-packages/ipykernel/kernelbase.py(534): dispatch_queue\n",
      "  /usr/lib/python3.12/asyncio/events.py(84): _run\n",
      "  /usr/lib/python3.12/asyncio/base_events.py(1971): _run_once\n",
      "  /usr/lib/python3.12/asyncio/base_events.py(638): run_forever\n",
      "  /home/mishmish/Documents/latch/latch_venv/lib/python3.12/site-packages/tornado/platform/asyncio.py(205): start\n",
      "  /home/mishmish/Documents/latch/latch_venv/lib/python3.12/site-packages/ipykernel/kernelapp.py(701): start\n",
      "  /home/mishmish/Documents/latch/latch_venv/lib/python3.12/site-packages/traitlets/config/application.py(1077): launch_instance\n",
      "  /home/mishmish/Documents/latch/latch_venv/lib/python3.12/site-packages/ipykernel_launcher.py(17): <module>\n",
      "  <frozen runpy>(88): _run_code\n",
      "  <frozen runpy>(198): _run_module_as_main\n",
      "\n",
      "2023-12-30 19:06:36.832351: E external/xla/xla/pjrt/pjrt_stream_executor_client.cc:2732] Execution of replica 0 failed: INTERNAL: Failed to execute XLA Runtime executable: run time error: custom call 'xla.gpu.custom_call' failed: CpuCallback error: ValueError: operands could not be broadcast together with shapes (5,3) (24,) \n",
      "\n",
      "At:\n",
      "  /home/mishmish/Documents/latch/latch_venv/lib/python3.12/site-packages/mujoco/mjx/_src/io.py(245): get_data\n",
      "  /tmp/ipykernel_138266/265307936.py(2): host_process_data\n",
      "  /home/mishmish/Documents/latch/latch_venv/lib/python3.12/site-packages/jax/_src/callback.py(262): _flat_callback\n",
      "  /home/mishmish/Documents/latch/latch_venv/lib/python3.12/site-packages/jax/_src/callback.py(53): pure_callback_impl\n",
      "  /home/mishmish/Documents/latch/latch_venv/lib/python3.12/site-packages/jax/_src/callback.py(192): _callback\n",
      "  /home/mishmish/Documents/latch/latch_venv/lib/python3.12/site-packages/jax/_src/interpreters/mlir.py(2367): _wrapped_callback\n",
      "  /home/mishmish/Documents/latch/latch_venv/lib/python3.12/site-packages/jax/_src/interpreters/pxla.py(1151): __call__\n",
      "  /home/mishmish/Documents/latch/latch_venv/lib/python3.12/site-packages/jax/_src/profiler.py(336): wrapper\n",
      "  /home/mishmish/Documents/latch/latch_venv/lib/python3.12/site-packages/jax/_src/pjit.py(1185): _pjit_call_impl_python\n",
      "  /home/mishmish/Documents/latch/latch_venv/lib/python3.12/site-packages/jax/_src/pjit.py(1229): call_impl_cache_miss\n",
      "  /home/mishmish/Documents/latch/latch_venv/lib/python3.12/site-packages/jax/_src/pjit.py(1245): _pjit_call_impl\n",
      "  /home/mishmish/Documents/latch/latch_venv/lib/python3.12/site-packages/jax/_src/core.py(935): process_primitive\n",
      "  /home/mishmish/Documents/latch/latch_venv/lib/python3.12/site-packages/jax/_src/core.py(447): bind_with_trace\n",
      "  /home/mishmish/Documents/latch/latch_venv/lib/python3.12/site-packages/jax/_src/core.py(2740): bind\n",
      "  /home/mishmish/Documents/latch/latch_venv/lib/python3.12/site-packages/jax/_src/pjit.py(168): _python_pjit_helper\n",
      "  /home/mishmish/Documents/latch/latch_venv/lib/python3.12/site-packages/jax/_src/pjit.py(257): cache_miss\n",
      "  /home/mishmish/Documents/latch/latch_venv/lib/python3.12/site-packages/jax/_src/traceback_util.py(179): reraise_with_filtered_traceback\n",
      "  /home/mishmish/Documents/latch/latch_venv/lib/python3.12/site-packages/jax/_src/dispatch.py(87): apply_primitive\n",
      "  /home/mishmish/Documents/latch/latch_venv/lib/python3.12/site-packages/jax/_src/core.py(935): process_primitive\n",
      "  /home/mishmish/Documents/latch/latch_venv/lib/python3.12/site-packages/jax/_src/core.py(447): bind_with_trace\n",
      "  /home/mishmish/Documents/latch/latch_venv/lib/python3.12/site-packages/jax/_src/core.py(444): bind\n",
      "  /home/mishmish/Documents/latch/latch_venv/lib/python3.12/site-packages/jax/_src/callback.py(108): pure_callback_batching_rule\n",
      "  /home/mishmish/Documents/latch/latch_venv/lib/python3.12/site-packages/jax/_src/interpreters/batching.py(433): process_primitive\n",
      "  /home/mishmish/Documents/latch/latch_venv/lib/python3.12/site-packages/jax/_src/core.py(447): bind_with_trace\n",
      "  /home/mishmish/Documents/latch/latch_venv/lib/python3.12/site-packages/jax/_src/core.py(444): bind\n",
      "  /home/mishmish/Documents/latch/latch_venv/lib/python3.12/site-packages/jax/_src/callback.py(108): pure_callback_batching_rule\n",
      "  /home/mishmish/Documents/latch/latch_venv/lib/python3.12/site-packages/jax/_src/interpreters/batching.py(433): process_primitive\n",
      "  /home/mishmish/Documents/latch/latch_venv/lib/python3.12/site-packages/jax/_src/core.py(447): bind_with_trace\n",
      "  /home/mishmish/Documents/latch/latch_venv/lib/python3.12/site-packages/jax/_src/core.py(444): bind\n",
      "  /home/mishmish/Documents/latch/latch_venv/lib/python3.12/site-packages/jax/_src/callback.py(269): pure_callback\n",
      "  /home/mishmish/Documents/latch/latch_venv/lib/python3.12/site-packages/jax/_src/callback.py(338): pure_callback_api\n",
      "  /tmp/ipykernel_138266/3744078314.py(2): call_callback\n",
      "  /home/mishmish/Documents/latch/latch_venv/lib/python3.12/site-packages/jax/_src/linear_util.py(191): call_wrapped\n",
      "  /home/mishmish/Documents/latch/latch_venv/lib/python3.12/site-packages/jax/_src/api.py(1258): vmap_f\n",
      "  /home/mishmish/Documents/latch/latch_venv/lib/python3.12/site-packages/jax/_src/traceback_util.py(179): reraise_with_filtered_traceback\n",
      "  /home/mishmish/Documents/latch/latch_venv/lib/python3.12/site-packages/jax/_src/linear_util.py(191): call_wrapped\n",
      "  /home/mishmish/Documents/latch/latch_venv/lib/python3.12/site-packages/jax/_src/api.py(1258): vmap_f\n",
      "  /home/mishmish/Documents/latch/latch_venv/lib/python3.12/site-packages/jax/_src/traceback_util.py(179): reraise_with_filtered_traceback\n",
      "  /tmp/ipykernel_138266/3062557544.py(1): <module>\n",
      "  /home/mishmish/Documents/latch/latch_venv/lib/python3.12/site-packages/IPython/core/interactiveshell.py(3553): run_code\n",
      "  /home/mishmish/Documents/latch/latch_venv/lib/python3.12/site-packages/IPython/core/interactiveshell.py(3493): run_ast_nodes\n",
      "  /home/mishmish/Documents/latch/latch_venv/lib/python3.12/site-packages/IPython/core/interactiveshell.py(3311): run_cell_async\n",
      "  /home/mishmish/Documents/latch/latch_venv/lib/python3.12/site-packages/IPython/core/async_helpers.py(129): _pseudo_sync_runner\n",
      "  /home/mishmish/Documents/latch/latch_venv/lib/python3.12/site-packages/IPython/core/interactiveshell.py(3106): _run_cell\n",
      "  /home/mishmish/Documents/latch/latch_venv/lib/python3.12/site-packages/IPython/core/interactiveshell.py(3051): run_cell\n",
      "  /home/mishmish/Documents/latch/latch_venv/lib/python3.12/site-packages/ipykernel/zmqshell.py(549): run_cell\n",
      "  /home/mishmish/Documents/latch/latch_venv/lib/python3.12/site-packages/ipykernel/ipkernel.py(429): do_execute\n",
      "  /home/mishmish/Documents/latch/latch_venv/lib/python3.12/site-packages/ipykernel/kernelbase.py(767): execute_request\n",
      "  /home/mishmish/Documents/latch/latch_venv/lib/python3.12/site-packages/ipykernel/kernelbase.py(429): dispatch_shell\n",
      "  /home/mishmish/Documents/latch/latch_venv/lib/python3.12/site-packages/ipykernel/kernelbase.py(523): process_one\n",
      "  /home/mishmish/Documents/latch/latch_venv/lib/python3.12/site-packages/ipykernel/kernelbase.py(534): dispatch_queue\n",
      "  /usr/lib/python3.12/asyncio/events.py(84): _run\n",
      "  /usr/lib/python3.12/asyncio/base_events.py(1971): _run_once\n",
      "  /usr/lib/python3.12/asyncio/base_events.py(638): run_forever\n",
      "  /home/mishmish/Documents/latch/latch_venv/lib/python3.12/site-packages/tornado/platform/asyncio.py(205): start\n",
      "  /home/mishmish/Documents/latch/latch_venv/lib/python3.12/site-packages/ipykernel/kernelapp.py(701): start\n",
      "  /home/mishmish/Documents/latch/latch_venv/lib/python3.12/site-packages/traitlets/config/application.py(1077): launch_instance\n",
      "  /home/mishmish/Documents/latch/latch_venv/lib/python3.12/site-packages/ipykernel_launcher.py(17): <module>\n",
      "  <frozen runpy>(88): _run_code\n",
      "  <frozen runpy>(198): _run_module_as_main\n",
      "; current tracing scope: custom-call.61; current profiling annotation: XlaModule:#prefix=jit(pure_callback)/jit(main)/pure_callback[callback=<function pure_callback.<locals>._flat_callback at 0x7f2a0c5db2e0> sharding=None vectorized=True result_avals=(ShapedArray(float32[5,5,1]),)],hlo_module=jit_pure_callback,program_id=128#.\n"
     ]
    },
    {
     "ename": "XlaRuntimeError",
     "evalue": "INTERNAL: Failed to execute XLA Runtime executable: run time error: custom call 'xla.gpu.custom_call' failed: CpuCallback error: ValueError: operands could not be broadcast together with shapes (5,3) (24,) \n\nAt:\n  /home/mishmish/Documents/latch/latch_venv/lib/python3.12/site-packages/mujoco/mjx/_src/io.py(245): get_data\n  /tmp/ipykernel_138266/265307936.py(2): host_process_data\n  /home/mishmish/Documents/latch/latch_venv/lib/python3.12/site-packages/jax/_src/callback.py(262): _flat_callback\n  /home/mishmish/Documents/latch/latch_venv/lib/python3.12/site-packages/jax/_src/callback.py(53): pure_callback_impl\n  /home/mishmish/Documents/latch/latch_venv/lib/python3.12/site-packages/jax/_src/callback.py(192): _callback\n  /home/mishmish/Documents/latch/latch_venv/lib/python3.12/site-packages/jax/_src/interpreters/mlir.py(2367): _wrapped_callback\n  /home/mishmish/Documents/latch/latch_venv/lib/python3.12/site-packages/jax/_src/interpreters/pxla.py(1151): __call__\n  /home/mishmish/Documents/latch/latch_venv/lib/python3.12/site-packages/jax/_src/profiler.py(336): wrapper\n  /home/mishmish/Documents/latch/latch_venv/lib/python3.12/site-packages/jax/_src/pjit.py(1185): _pjit_call_impl_python\n  /home/mishmish/Documents/latch/latch_venv/lib/python3.12/site-packages/jax/_src/pjit.py(1229): call_impl_cache_miss\n  /home/mishmish/Documents/latch/latch_venv/lib/python3.12/site-packages/jax/_src/pjit.py(1245): _pjit_call_impl\n  /home/mishmish/Documents/latch/latch_venv/lib/python3.12/site-packages/jax/_src/core.py(935): process_primitive\n  /home/mishmish/Documents/latch/latch_venv/lib/python3.12/site-packages/jax/_src/core.py(447): bind_with_trace\n  /home/mishmish/Documents/latch/latch_venv/lib/python3.12/site-packages/jax/_src/core.py(2740): bind\n  /home/mishmish/Documents/latch/latch_venv/lib/python3.12/site-packages/jax/_src/pjit.py(168): _python_pjit_helper\n  /home/mishmish/Documents/latch/latch_venv/lib/python3.12/site-packages/jax/_src/pjit.py(257): cache_miss\n  /home/mishmish/Documents/latch/latch_venv/lib/python3.12/site-packages/jax/_src/traceback_util.py(179): reraise_with_filtered_traceback\n  /home/mishmish/Documents/latch/latch_venv/lib/python3.12/site-packages/jax/_src/dispatch.py(87): apply_primitive\n  /home/mishmish/Documents/latch/latch_venv/lib/python3.12/site-packages/jax/_src/core.py(935): process_primitive\n  /home/mishmish/Documents/latch/latch_venv/lib/python3.12/site-packages/jax/_src/core.py(447): bind_with_trace\n  /home/mishmish/Documents/latch/latch_venv/lib/python3.12/site-packages/jax/_src/core.py(444): bind\n  /home/mishmish/Documents/latch/latch_venv/lib/python3.12/site-packages/jax/_src/callback.py(108): pure_callback_batching_rule\n  /home/mishmish/Documents/latch/latch_venv/lib/python3.12/site-packages/jax/_src/interpreters/batching.py(433): process_primitive\n  /home/mishmish/Documents/latch/latch_venv/lib/python3.12/site-packages/jax/_src/core.py(447): bind_with_trace\n  /home/mishmish/Documents/latch/latch_venv/lib/python3.12/site-packages/jax/_src/core.py(444): bind\n  /home/mishmish/Documents/latch/latch_venv/lib/python3.12/site-packages/jax/_src/callback.py(108): pure_callback_batching_rule\n  /home/mishmish/Documents/latch/latch_venv/lib/python3.12/site-packages/jax/_src/interpreters/batching.py(433): process_primitive\n  /home/mishmish/Documents/latch/latch_venv/lib/python3.12/site-packages/jax/_src/core.py(447): bind_with_trace\n  /home/mishmish/Documents/latch/latch_venv/lib/python3.12/site-packages/jax/_src/core.py(444): bind\n  /home/mishmish/Documents/latch/latch_venv/lib/python3.12/site-packages/jax/_src/callback.py(269): pure_callback\n  /home/mishmish/Documents/latch/latch_venv/lib/python3.12/site-packages/jax/_src/callback.py(338): pure_callback_api\n  /tmp/ipykernel_138266/3744078314.py(2): call_callback\n  /home/mishmish/Documents/latch/latch_venv/lib/python3.12/site-packages/jax/_src/linear_util.py(191): call_wrapped\n  /home/mishmish/Documents/latch/latch_venv/lib/python3.12/site-packages/jax/_src/api.py(1258): vmap_f\n  /home/mishmish/Documents/latch/latch_venv/lib/python3.12/site-packages/jax/_src/traceback_util.py(179): reraise_with_filtered_traceback\n  /home/mishmish/Documents/latch/latch_venv/lib/python3.12/site-packages/jax/_src/linear_util.py(191): call_wrapped\n  /home/mishmish/Documents/latch/latch_venv/lib/python3.12/site-packages/jax/_src/api.py(1258): vmap_f\n  /home/mishmish/Documents/latch/latch_venv/lib/python3.12/site-packages/jax/_src/traceback_util.py(179): reraise_with_filtered_traceback\n  /tmp/ipykernel_138266/3062557544.py(1): <module>\n  /home/mishmish/Documents/latch/latch_venv/lib/python3.12/site-packages/IPython/core/interactiveshell.py(3553): run_code\n  /home/mishmish/Documents/latch/latch_venv/lib/python3.12/site-packages/IPython/core/interactiveshell.py(3493): run_ast_nodes\n  /home/mishmish/Documents/latch/latch_venv/lib/python3.12/site-packages/IPython/core/interactiveshell.py(3311): run_cell_async\n  /home/mishmish/Documents/latch/latch_venv/lib/python3.12/site-packages/IPython/core/async_helpers.py(129): _pseudo_sync_runner\n  /home/mishmish/Documents/latch/latch_venv/lib/python3.12/site-packages/IPython/core/interactiveshell.py(3106): _run_cell\n  /home/mishmish/Documents/latch/latch_venv/lib/python3.12/site-packages/IPython/core/interactiveshell.py(3051): run_cell\n  /home/mishmish/Documents/latch/latch_venv/lib/python3.12/site-packages/ipykernel/zmqshell.py(549): run_cell\n  /home/mishmish/Documents/latch/latch_venv/lib/python3.12/site-packages/ipykernel/ipkernel.py(429): do_execute\n  /home/mishmish/Documents/latch/latch_venv/lib/python3.12/site-packages/ipykernel/kernelbase.py(767): execute_request\n  /home/mishmish/Documents/latch/latch_venv/lib/python3.12/site-packages/ipykernel/kernelbase.py(429): dispatch_shell\n  /home/mishmish/Documents/latch/latch_venv/lib/python3.12/site-packages/ipykernel/kernelbase.py(523): process_one\n  /home/mishmish/Documents/latch/latch_venv/lib/python3.12/site-packages/ipykernel/kernelbase.py(534): dispatch_queue\n  /usr/lib/python3.12/asyncio/events.py(84): _run\n  /usr/lib/python3.12/asyncio/base_events.py(1971): _run_once\n  /usr/lib/python3.12/asyncio/base_events.py(638): run_forever\n  /home/mishmish/Documents/latch/latch_venv/lib/python3.12/site-packages/tornado/platform/asyncio.py(205): start\n  /home/mishmish/Documents/latch/latch_venv/lib/python3.12/site-packages/ipykernel/kernelapp.py(701): start\n  /home/mishmish/Documents/latch/latch_venv/lib/python3.12/site-packages/traitlets/config/application.py(1077): launch_instance\n  /home/mishmish/Documents/latch/latch_venv/lib/python3.12/site-packages/ipykernel_launcher.py(17): <module>\n  <frozen runpy>(88): _run_code\n  <frozen runpy>(198): _run_module_as_main\n; current tracing scope: custom-call.61; current profiling annotation: XlaModule:#prefix=jit(pure_callback)/jit(main)/pure_callback[callback=<function pure_callback.<locals>._flat_callback at 0x7f2a0c5db2e0> sharding=None vectorized=True result_avals=(ShapedArray(float32[5,5,1]),)],hlo_module=jit_pure_callback,program_id=128#.",
     "output_type": "error",
     "traceback": [
      "\u001b[0;31m---------------------------------------------------------------------------\u001b[0m",
      "\u001b[0;31mXlaRuntimeError\u001b[0m                           Traceback (most recent call last)",
      "Cell \u001b[0;32mIn[65], line 1\u001b[0m\n\u001b[0;32m----> 1\u001b[0m \u001b[43mjax\u001b[49m\u001b[38;5;241;43m.\u001b[39;49m\u001b[43mvmap\u001b[49m\u001b[43m(\u001b[49m\u001b[43mjax\u001b[49m\u001b[38;5;241;43m.\u001b[39;49m\u001b[43mvmap\u001b[49m\u001b[43m(\u001b[49m\u001b[43mcall_callback\u001b[49m\u001b[43m)\u001b[49m\u001b[43m)\u001b[49m\u001b[43m(\u001b[49m\u001b[43mdata\u001b[49m\u001b[43m)\u001b[49m\n",
      "    \u001b[0;31m[... skipping hidden 6 frame]\u001b[0m\n",
      "Cell \u001b[0;32mIn[59], line 2\u001b[0m, in \u001b[0;36mcall_callback\u001b[0;34m(data)\u001b[0m\n\u001b[1;32m      1\u001b[0m \u001b[38;5;28;01mdef\u001b[39;00m \u001b[38;5;21mcall_callback\u001b[39m(data):\n\u001b[0;32m----> 2\u001b[0m     \u001b[38;5;28;01mreturn\u001b[39;00m \u001b[43mjax\u001b[49m\u001b[38;5;241;43m.\u001b[39;49m\u001b[43mpure_callback\u001b[49m\u001b[43m(\u001b[49m\u001b[43mhost_process_data\u001b[49m\u001b[43m,\u001b[49m\u001b[43m \u001b[49m\u001b[43mjnp\u001b[49m\u001b[38;5;241;43m.\u001b[39;49m\u001b[43mzeros\u001b[49m\u001b[43m(\u001b[49m\u001b[38;5;241;43m1\u001b[39;49m\u001b[43m)\u001b[49m\u001b[43m,\u001b[49m\u001b[43m \u001b[49m\u001b[43mdata\u001b[49m\u001b[43m,\u001b[49m\u001b[43m \u001b[49m\u001b[43mvectorized\u001b[49m\u001b[38;5;241;43m=\u001b[39;49m\u001b[38;5;28;43;01mTrue\u001b[39;49;00m\u001b[43m)\u001b[49m\n",
      "File \u001b[0;32m~/Documents/latch/latch_venv/lib/python3.12/site-packages/jax/_src/callback.py:338\u001b[0m, in \u001b[0;36mpure_callback_api\u001b[0;34m(callback, result_shape_dtypes, sharding, vectorized, *args, **kwargs)\u001b[0m\n\u001b[1;32m    279\u001b[0m \u001b[38;5;28;01mdef\u001b[39;00m \u001b[38;5;21mpure_callback_api\u001b[39m(\n\u001b[1;32m    280\u001b[0m     callback: Callable[\u001b[38;5;241m.\u001b[39m\u001b[38;5;241m.\u001b[39m\u001b[38;5;241m.\u001b[39m, Any],\n\u001b[1;32m    281\u001b[0m     result_shape_dtypes: Any,\n\u001b[0;32m   (...)\u001b[0m\n\u001b[1;32m    285\u001b[0m     \u001b[38;5;241m*\u001b[39m\u001b[38;5;241m*\u001b[39mkwargs: Any,\n\u001b[1;32m    286\u001b[0m ):\n\u001b[1;32m    287\u001b[0m \u001b[38;5;250m  \u001b[39m\u001b[38;5;124;03m\"\"\"Applies a functionally pure Python callable. Works under :func:`jit`/:func:`~pmap`/etc.\u001b[39;00m\n\u001b[1;32m    288\u001b[0m \n\u001b[1;32m    289\u001b[0m \u001b[38;5;124;03m  ``pure_callback`` enables calling a Python function in JIT-ed JAX functions.\u001b[39;00m\n\u001b[0;32m   (...)\u001b[0m\n\u001b[1;32m    336\u001b[0m \u001b[38;5;124;03m    The value of ``callback(*args, **kwargs)``.\u001b[39;00m\n\u001b[1;32m    337\u001b[0m \u001b[38;5;124;03m  \"\"\"\u001b[39;00m\n\u001b[0;32m--> 338\u001b[0m   \u001b[38;5;28;01mreturn\u001b[39;00m \u001b[43mpure_callback\u001b[49m\u001b[43m(\u001b[49m\n\u001b[1;32m    339\u001b[0m \u001b[43m      \u001b[49m\u001b[43mcallback\u001b[49m\u001b[43m,\u001b[49m\n\u001b[1;32m    340\u001b[0m \u001b[43m      \u001b[49m\u001b[43mresult_shape_dtypes\u001b[49m\u001b[43m,\u001b[49m\n\u001b[1;32m    341\u001b[0m \u001b[43m      \u001b[49m\u001b[38;5;241;43m*\u001b[39;49m\u001b[43margs\u001b[49m\u001b[43m,\u001b[49m\n\u001b[1;32m    342\u001b[0m \u001b[43m      \u001b[49m\u001b[43msharding\u001b[49m\u001b[38;5;241;43m=\u001b[39;49m\u001b[43msharding\u001b[49m\u001b[43m,\u001b[49m\n\u001b[1;32m    343\u001b[0m \u001b[43m      \u001b[49m\u001b[43mvectorized\u001b[49m\u001b[38;5;241;43m=\u001b[39;49m\u001b[43mvectorized\u001b[49m\u001b[43m,\u001b[49m\n\u001b[1;32m    344\u001b[0m \u001b[43m      \u001b[49m\u001b[38;5;241;43m*\u001b[39;49m\u001b[38;5;241;43m*\u001b[39;49m\u001b[43mkwargs\u001b[49m\u001b[43m,\u001b[49m\n\u001b[1;32m    345\u001b[0m \u001b[43m  \u001b[49m\u001b[43m)\u001b[49m\n",
      "File \u001b[0;32m~/Documents/latch/latch_venv/lib/python3.12/site-packages/jax/_src/callback.py:269\u001b[0m, in \u001b[0;36mpure_callback\u001b[0;34m(callback, result_shape_dtypes, sharding, vectorized, *args, **kwargs)\u001b[0m\n\u001b[1;32m    266\u001b[0m result_avals \u001b[38;5;241m=\u001b[39m tree_util\u001b[38;5;241m.\u001b[39mtree_map(\n\u001b[1;32m    267\u001b[0m     \u001b[38;5;28;01mlambda\u001b[39;00m x: core\u001b[38;5;241m.\u001b[39mShapedArray(x\u001b[38;5;241m.\u001b[39mshape, x\u001b[38;5;241m.\u001b[39mdtype), result_shape_dtypes)\n\u001b[1;32m    268\u001b[0m flat_result_avals, out_tree \u001b[38;5;241m=\u001b[39m tree_util\u001b[38;5;241m.\u001b[39mtree_flatten(result_avals)\n\u001b[0;32m--> 269\u001b[0m out_flat \u001b[38;5;241m=\u001b[39m \u001b[43mpure_callback_p\u001b[49m\u001b[38;5;241;43m.\u001b[39;49m\u001b[43mbind\u001b[49m\u001b[43m(\u001b[49m\n\u001b[1;32m    270\u001b[0m \u001b[43m    \u001b[49m\u001b[38;5;241;43m*\u001b[39;49m\u001b[43mflat_args\u001b[49m\u001b[43m,\u001b[49m\n\u001b[1;32m    271\u001b[0m \u001b[43m    \u001b[49m\u001b[43mcallback\u001b[49m\u001b[38;5;241;43m=\u001b[39;49m\u001b[43m_flat_callback\u001b[49m\u001b[43m,\u001b[49m\n\u001b[1;32m    272\u001b[0m \u001b[43m    \u001b[49m\u001b[43mresult_avals\u001b[49m\u001b[38;5;241;43m=\u001b[39;49m\u001b[38;5;28;43mtuple\u001b[39;49m\u001b[43m(\u001b[49m\u001b[43mflat_result_avals\u001b[49m\u001b[43m)\u001b[49m\u001b[43m,\u001b[49m\n\u001b[1;32m    273\u001b[0m \u001b[43m    \u001b[49m\u001b[43msharding\u001b[49m\u001b[38;5;241;43m=\u001b[39;49m\u001b[43msharding\u001b[49m\u001b[43m,\u001b[49m\n\u001b[1;32m    274\u001b[0m \u001b[43m    \u001b[49m\u001b[43mvectorized\u001b[49m\u001b[38;5;241;43m=\u001b[39;49m\u001b[43mvectorized\u001b[49m\u001b[43m,\u001b[49m\n\u001b[1;32m    275\u001b[0m \u001b[43m\u001b[49m\u001b[43m)\u001b[49m\n\u001b[1;32m    276\u001b[0m \u001b[38;5;28;01mreturn\u001b[39;00m tree_util\u001b[38;5;241m.\u001b[39mtree_unflatten(out_tree, out_flat)\n",
      "    \u001b[0;31m[... skipping hidden 3 frame]\u001b[0m\n",
      "File \u001b[0;32m~/Documents/latch/latch_venv/lib/python3.12/site-packages/jax/_src/callback.py:108\u001b[0m, in \u001b[0;36mpure_callback_batching_rule\u001b[0;34m(args, dims, callback, sharding, vectorized, result_avals)\u001b[0m\n\u001b[1;32m    104\u001b[0m \u001b[38;5;28;01mif\u001b[39;00m vectorized:\n\u001b[1;32m    105\u001b[0m   result_avals \u001b[38;5;241m=\u001b[39m \u001b[38;5;28mtuple\u001b[39m(\n\u001b[1;32m    106\u001b[0m       core\u001b[38;5;241m.\u001b[39munmapped_aval(axis_size, core\u001b[38;5;241m.\u001b[39mno_axis_name, \u001b[38;5;241m0\u001b[39m, aval)  \u001b[38;5;66;03m# type: ignore\u001b[39;00m\n\u001b[1;32m    107\u001b[0m       \u001b[38;5;28;01mfor\u001b[39;00m aval \u001b[38;5;129;01min\u001b[39;00m result_avals)\n\u001b[0;32m--> 108\u001b[0m   outvals \u001b[38;5;241m=\u001b[39m \u001b[43mpure_callback_p\u001b[49m\u001b[38;5;241;43m.\u001b[39;49m\u001b[43mbind\u001b[49m\u001b[43m(\u001b[49m\n\u001b[1;32m    109\u001b[0m \u001b[43m      \u001b[49m\u001b[38;5;241;43m*\u001b[39;49m\u001b[43mnew_args\u001b[49m\u001b[43m,\u001b[49m\n\u001b[1;32m    110\u001b[0m \u001b[43m      \u001b[49m\u001b[43mcallback\u001b[49m\u001b[38;5;241;43m=\u001b[39;49m\u001b[43mcallback\u001b[49m\u001b[43m,\u001b[49m\n\u001b[1;32m    111\u001b[0m \u001b[43m      \u001b[49m\u001b[43msharding\u001b[49m\u001b[38;5;241;43m=\u001b[39;49m\u001b[43msharding\u001b[49m\u001b[43m,\u001b[49m\n\u001b[1;32m    112\u001b[0m \u001b[43m      \u001b[49m\u001b[43mvectorized\u001b[49m\u001b[38;5;241;43m=\u001b[39;49m\u001b[43mvectorized\u001b[49m\u001b[43m,\u001b[49m\n\u001b[1;32m    113\u001b[0m \u001b[43m      \u001b[49m\u001b[43mresult_avals\u001b[49m\u001b[38;5;241;43m=\u001b[39;49m\u001b[43mresult_avals\u001b[49m\u001b[43m,\u001b[49m\n\u001b[1;32m    114\u001b[0m \u001b[43m  \u001b[49m\u001b[43m)\u001b[49m\n\u001b[1;32m    115\u001b[0m \u001b[38;5;28;01melse\u001b[39;00m:\n\u001b[1;32m    116\u001b[0m   is_batched \u001b[38;5;241m=\u001b[39m [d \u001b[38;5;129;01mis\u001b[39;00m \u001b[38;5;129;01mnot\u001b[39;00m batching\u001b[38;5;241m.\u001b[39mnot_mapped \u001b[38;5;28;01mfor\u001b[39;00m d \u001b[38;5;129;01min\u001b[39;00m dims]\n",
      "    \u001b[0;31m[... skipping hidden 3 frame]\u001b[0m\n",
      "File \u001b[0;32m~/Documents/latch/latch_venv/lib/python3.12/site-packages/jax/_src/callback.py:108\u001b[0m, in \u001b[0;36mpure_callback_batching_rule\u001b[0;34m(args, dims, callback, sharding, vectorized, result_avals)\u001b[0m\n\u001b[1;32m    104\u001b[0m \u001b[38;5;28;01mif\u001b[39;00m vectorized:\n\u001b[1;32m    105\u001b[0m   result_avals \u001b[38;5;241m=\u001b[39m \u001b[38;5;28mtuple\u001b[39m(\n\u001b[1;32m    106\u001b[0m       core\u001b[38;5;241m.\u001b[39munmapped_aval(axis_size, core\u001b[38;5;241m.\u001b[39mno_axis_name, \u001b[38;5;241m0\u001b[39m, aval)  \u001b[38;5;66;03m# type: ignore\u001b[39;00m\n\u001b[1;32m    107\u001b[0m       \u001b[38;5;28;01mfor\u001b[39;00m aval \u001b[38;5;129;01min\u001b[39;00m result_avals)\n\u001b[0;32m--> 108\u001b[0m   outvals \u001b[38;5;241m=\u001b[39m \u001b[43mpure_callback_p\u001b[49m\u001b[38;5;241;43m.\u001b[39;49m\u001b[43mbind\u001b[49m\u001b[43m(\u001b[49m\n\u001b[1;32m    109\u001b[0m \u001b[43m      \u001b[49m\u001b[38;5;241;43m*\u001b[39;49m\u001b[43mnew_args\u001b[49m\u001b[43m,\u001b[49m\n\u001b[1;32m    110\u001b[0m \u001b[43m      \u001b[49m\u001b[43mcallback\u001b[49m\u001b[38;5;241;43m=\u001b[39;49m\u001b[43mcallback\u001b[49m\u001b[43m,\u001b[49m\n\u001b[1;32m    111\u001b[0m \u001b[43m      \u001b[49m\u001b[43msharding\u001b[49m\u001b[38;5;241;43m=\u001b[39;49m\u001b[43msharding\u001b[49m\u001b[43m,\u001b[49m\n\u001b[1;32m    112\u001b[0m \u001b[43m      \u001b[49m\u001b[43mvectorized\u001b[49m\u001b[38;5;241;43m=\u001b[39;49m\u001b[43mvectorized\u001b[49m\u001b[43m,\u001b[49m\n\u001b[1;32m    113\u001b[0m \u001b[43m      \u001b[49m\u001b[43mresult_avals\u001b[49m\u001b[38;5;241;43m=\u001b[39;49m\u001b[43mresult_avals\u001b[49m\u001b[43m,\u001b[49m\n\u001b[1;32m    114\u001b[0m \u001b[43m  \u001b[49m\u001b[43m)\u001b[49m\n\u001b[1;32m    115\u001b[0m \u001b[38;5;28;01melse\u001b[39;00m:\n\u001b[1;32m    116\u001b[0m   is_batched \u001b[38;5;241m=\u001b[39m [d \u001b[38;5;129;01mis\u001b[39;00m \u001b[38;5;129;01mnot\u001b[39;00m batching\u001b[38;5;241m.\u001b[39mnot_mapped \u001b[38;5;28;01mfor\u001b[39;00m d \u001b[38;5;129;01min\u001b[39;00m dims]\n",
      "    \u001b[0;31m[... skipping hidden 14 frame]\u001b[0m\n",
      "File \u001b[0;32m~/Documents/latch/latch_venv/lib/python3.12/site-packages/jax/_src/interpreters/pxla.py:1151\u001b[0m, in \u001b[0;36mExecuteReplicated.__call__\u001b[0;34m(self, *args)\u001b[0m\n\u001b[1;32m   1148\u001b[0m \u001b[38;5;28;01mif\u001b[39;00m (\u001b[38;5;28mself\u001b[39m\u001b[38;5;241m.\u001b[39mordered_effects \u001b[38;5;129;01mor\u001b[39;00m \u001b[38;5;28mself\u001b[39m\u001b[38;5;241m.\u001b[39mhas_unordered_effects\n\u001b[1;32m   1149\u001b[0m     \u001b[38;5;129;01mor\u001b[39;00m \u001b[38;5;28mself\u001b[39m\u001b[38;5;241m.\u001b[39mhas_host_callbacks):\n\u001b[1;32m   1150\u001b[0m   input_bufs \u001b[38;5;241m=\u001b[39m \u001b[38;5;28mself\u001b[39m\u001b[38;5;241m.\u001b[39m_add_tokens_to_inputs(input_bufs)\n\u001b[0;32m-> 1151\u001b[0m   results \u001b[38;5;241m=\u001b[39m \u001b[38;5;28;43mself\u001b[39;49m\u001b[38;5;241;43m.\u001b[39;49m\u001b[43mxla_executable\u001b[49m\u001b[38;5;241;43m.\u001b[39;49m\u001b[43mexecute_sharded\u001b[49m\u001b[43m(\u001b[49m\n\u001b[1;32m   1152\u001b[0m \u001b[43m      \u001b[49m\u001b[43minput_bufs\u001b[49m\u001b[43m,\u001b[49m\u001b[43m \u001b[49m\u001b[43mwith_tokens\u001b[49m\u001b[38;5;241;43m=\u001b[39;49m\u001b[38;5;28;43;01mTrue\u001b[39;49;00m\n\u001b[1;32m   1153\u001b[0m \u001b[43m  \u001b[49m\u001b[43m)\u001b[49m\n\u001b[1;32m   1154\u001b[0m   result_token_bufs \u001b[38;5;241m=\u001b[39m results\u001b[38;5;241m.\u001b[39mdisassemble_prefix_into_single_device_arrays(\n\u001b[1;32m   1155\u001b[0m       \u001b[38;5;28mlen\u001b[39m(\u001b[38;5;28mself\u001b[39m\u001b[38;5;241m.\u001b[39mordered_effects))\n\u001b[1;32m   1156\u001b[0m   sharded_runtime_token \u001b[38;5;241m=\u001b[39m results\u001b[38;5;241m.\u001b[39mconsume_token()\n",
      "\u001b[0;31mXlaRuntimeError\u001b[0m: INTERNAL: Failed to execute XLA Runtime executable: run time error: custom call 'xla.gpu.custom_call' failed: CpuCallback error: ValueError: operands could not be broadcast together with shapes (5,3) (24,) \n\nAt:\n  /home/mishmish/Documents/latch/latch_venv/lib/python3.12/site-packages/mujoco/mjx/_src/io.py(245): get_data\n  /tmp/ipykernel_138266/265307936.py(2): host_process_data\n  /home/mishmish/Documents/latch/latch_venv/lib/python3.12/site-packages/jax/_src/callback.py(262): _flat_callback\n  /home/mishmish/Documents/latch/latch_venv/lib/python3.12/site-packages/jax/_src/callback.py(53): pure_callback_impl\n  /home/mishmish/Documents/latch/latch_venv/lib/python3.12/site-packages/jax/_src/callback.py(192): _callback\n  /home/mishmish/Documents/latch/latch_venv/lib/python3.12/site-packages/jax/_src/interpreters/mlir.py(2367): _wrapped_callback\n  /home/mishmish/Documents/latch/latch_venv/lib/python3.12/site-packages/jax/_src/interpreters/pxla.py(1151): __call__\n  /home/mishmish/Documents/latch/latch_venv/lib/python3.12/site-packages/jax/_src/profiler.py(336): wrapper\n  /home/mishmish/Documents/latch/latch_venv/lib/python3.12/site-packages/jax/_src/pjit.py(1185): _pjit_call_impl_python\n  /home/mishmish/Documents/latch/latch_venv/lib/python3.12/site-packages/jax/_src/pjit.py(1229): call_impl_cache_miss\n  /home/mishmish/Documents/latch/latch_venv/lib/python3.12/site-packages/jax/_src/pjit.py(1245): _pjit_call_impl\n  /home/mishmish/Documents/latch/latch_venv/lib/python3.12/site-packages/jax/_src/core.py(935): process_primitive\n  /home/mishmish/Documents/latch/latch_venv/lib/python3.12/site-packages/jax/_src/core.py(447): bind_with_trace\n  /home/mishmish/Documents/latch/latch_venv/lib/python3.12/site-packages/jax/_src/core.py(2740): bind\n  /home/mishmish/Documents/latch/latch_venv/lib/python3.12/site-packages/jax/_src/pjit.py(168): _python_pjit_helper\n  /home/mishmish/Documents/latch/latch_venv/lib/python3.12/site-packages/jax/_src/pjit.py(257): cache_miss\n  /home/mishmish/Documents/latch/latch_venv/lib/python3.12/site-packages/jax/_src/traceback_util.py(179): reraise_with_filtered_traceback\n  /home/mishmish/Documents/latch/latch_venv/lib/python3.12/site-packages/jax/_src/dispatch.py(87): apply_primitive\n  /home/mishmish/Documents/latch/latch_venv/lib/python3.12/site-packages/jax/_src/core.py(935): process_primitive\n  /home/mishmish/Documents/latch/latch_venv/lib/python3.12/site-packages/jax/_src/core.py(447): bind_with_trace\n  /home/mishmish/Documents/latch/latch_venv/lib/python3.12/site-packages/jax/_src/core.py(444): bind\n  /home/mishmish/Documents/latch/latch_venv/lib/python3.12/site-packages/jax/_src/callback.py(108): pure_callback_batching_rule\n  /home/mishmish/Documents/latch/latch_venv/lib/python3.12/site-packages/jax/_src/interpreters/batching.py(433): process_primitive\n  /home/mishmish/Documents/latch/latch_venv/lib/python3.12/site-packages/jax/_src/core.py(447): bind_with_trace\n  /home/mishmish/Documents/latch/latch_venv/lib/python3.12/site-packages/jax/_src/core.py(444): bind\n  /home/mishmish/Documents/latch/latch_venv/lib/python3.12/site-packages/jax/_src/callback.py(108): pure_callback_batching_rule\n  /home/mishmish/Documents/latch/latch_venv/lib/python3.12/site-packages/jax/_src/interpreters/batching.py(433): process_primitive\n  /home/mishmish/Documents/latch/latch_venv/lib/python3.12/site-packages/jax/_src/core.py(447): bind_with_trace\n  /home/mishmish/Documents/latch/latch_venv/lib/python3.12/site-packages/jax/_src/core.py(444): bind\n  /home/mishmish/Documents/latch/latch_venv/lib/python3.12/site-packages/jax/_src/callback.py(269): pure_callback\n  /home/mishmish/Documents/latch/latch_venv/lib/python3.12/site-packages/jax/_src/callback.py(338): pure_callback_api\n  /tmp/ipykernel_138266/3744078314.py(2): call_callback\n  /home/mishmish/Documents/latch/latch_venv/lib/python3.12/site-packages/jax/_src/linear_util.py(191): call_wrapped\n  /home/mishmish/Documents/latch/latch_venv/lib/python3.12/site-packages/jax/_src/api.py(1258): vmap_f\n  /home/mishmish/Documents/latch/latch_venv/lib/python3.12/site-packages/jax/_src/traceback_util.py(179): reraise_with_filtered_traceback\n  /home/mishmish/Documents/latch/latch_venv/lib/python3.12/site-packages/jax/_src/linear_util.py(191): call_wrapped\n  /home/mishmish/Documents/latch/latch_venv/lib/python3.12/site-packages/jax/_src/api.py(1258): vmap_f\n  /home/mishmish/Documents/latch/latch_venv/lib/python3.12/site-packages/jax/_src/traceback_util.py(179): reraise_with_filtered_traceback\n  /tmp/ipykernel_138266/3062557544.py(1): <module>\n  /home/mishmish/Documents/latch/latch_venv/lib/python3.12/site-packages/IPython/core/interactiveshell.py(3553): run_code\n  /home/mishmish/Documents/latch/latch_venv/lib/python3.12/site-packages/IPython/core/interactiveshell.py(3493): run_ast_nodes\n  /home/mishmish/Documents/latch/latch_venv/lib/python3.12/site-packages/IPython/core/interactiveshell.py(3311): run_cell_async\n  /home/mishmish/Documents/latch/latch_venv/lib/python3.12/site-packages/IPython/core/async_helpers.py(129): _pseudo_sync_runner\n  /home/mishmish/Documents/latch/latch_venv/lib/python3.12/site-packages/IPython/core/interactiveshell.py(3106): _run_cell\n  /home/mishmish/Documents/latch/latch_venv/lib/python3.12/site-packages/IPython/core/interactiveshell.py(3051): run_cell\n  /home/mishmish/Documents/latch/latch_venv/lib/python3.12/site-packages/ipykernel/zmqshell.py(549): run_cell\n  /home/mishmish/Documents/latch/latch_venv/lib/python3.12/site-packages/ipykernel/ipkernel.py(429): do_execute\n  /home/mishmish/Documents/latch/latch_venv/lib/python3.12/site-packages/ipykernel/kernelbase.py(767): execute_request\n  /home/mishmish/Documents/latch/latch_venv/lib/python3.12/site-packages/ipykernel/kernelbase.py(429): dispatch_shell\n  /home/mishmish/Documents/latch/latch_venv/lib/python3.12/site-packages/ipykernel/kernelbase.py(523): process_one\n  /home/mishmish/Documents/latch/latch_venv/lib/python3.12/site-packages/ipykernel/kernelbase.py(534): dispatch_queue\n  /usr/lib/python3.12/asyncio/events.py(84): _run\n  /usr/lib/python3.12/asyncio/base_events.py(1971): _run_once\n  /usr/lib/python3.12/asyncio/base_events.py(638): run_forever\n  /home/mishmish/Documents/latch/latch_venv/lib/python3.12/site-packages/tornado/platform/asyncio.py(205): start\n  /home/mishmish/Documents/latch/latch_venv/lib/python3.12/site-packages/ipykernel/kernelapp.py(701): start\n  /home/mishmish/Documents/latch/latch_venv/lib/python3.12/site-packages/traitlets/config/application.py(1077): launch_instance\n  /home/mishmish/Documents/latch/latch_venv/lib/python3.12/site-packages/ipykernel_launcher.py(17): <module>\n  <frozen runpy>(88): _run_code\n  <frozen runpy>(198): _run_module_as_main\n; current tracing scope: custom-call.61; current profiling annotation: XlaModule:#prefix=jit(pure_callback)/jit(main)/pure_callback[callback=<function pure_callback.<locals>._flat_callback at 0x7f2a0c5db2e0> sharding=None vectorized=True result_avals=(ShapedArray(float32[5,5,1]),)],hlo_module=jit_pure_callback,program_id=128#."
     ]
    }
   ],
   "source": [
    "jax.vmap(jax.vmap(call_callback))(data)"
   ]
  },
  {
   "cell_type": "code",
   "execution_count": null,
   "metadata": {},
   "outputs": [],
   "source": []
  }
 ],
 "metadata": {
  "kernelspec": {
   "display_name": "latch_venv",
   "language": "python",
   "name": "python3"
  },
  "language_info": {
   "codemirror_mode": {
    "name": "ipython",
    "version": 3
   },
   "file_extension": ".py",
   "mimetype": "text/x-python",
   "name": "python",
   "nbconvert_exporter": "python",
   "pygments_lexer": "ipython3",
   "version": "3.12.1"
  }
 },
 "nbformat": 4,
 "nbformat_minor": 2
}
